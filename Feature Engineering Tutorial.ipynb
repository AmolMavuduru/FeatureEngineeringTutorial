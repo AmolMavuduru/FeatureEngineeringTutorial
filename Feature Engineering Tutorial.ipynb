{
 "cells": [
  {
   "cell_type": "markdown",
   "metadata": {},
   "source": [
    "# Feature Engineering Tutorial"
   ]
  },
  {
   "cell_type": "markdown",
   "metadata": {},
   "source": [
    "## Import Libraries"
   ]
  },
  {
   "cell_type": "code",
   "execution_count": 84,
   "metadata": {},
   "outputs": [],
   "source": [
    "import numpy as np\n",
    "import pandas as pd\n",
    "import matplotlib.pyplot as plt\n",
    "import seaborn as sns\n",
    "import random\n",
    "from tqdm import tqdm\n",
    "tqdm.pandas()\n",
    "random.seed(1)\n",
    "np.random.seed(1)\n",
    "%matplotlib inline"
   ]
  },
  {
   "cell_type": "markdown",
   "metadata": {},
   "source": [
    "## Read Data"
   ]
  },
  {
   "cell_type": "code",
   "execution_count": 85,
   "metadata": {},
   "outputs": [],
   "source": [
    "data = pd.read_csv('./data/train.zip')"
   ]
  },
  {
   "cell_type": "code",
   "execution_count": 86,
   "metadata": {},
   "outputs": [
    {
     "name": "stdout",
     "output_type": "stream",
     "text": [
      "<class 'pandas.core.frame.DataFrame'>\n",
      "RangeIndex: 1458644 entries, 0 to 1458643\n",
      "Data columns (total 11 columns):\n",
      " #   Column              Non-Null Count    Dtype  \n",
      "---  ------              --------------    -----  \n",
      " 0   id                  1458644 non-null  object \n",
      " 1   vendor_id           1458644 non-null  int64  \n",
      " 2   pickup_datetime     1458644 non-null  object \n",
      " 3   dropoff_datetime    1458644 non-null  object \n",
      " 4   passenger_count     1458644 non-null  int64  \n",
      " 5   pickup_longitude    1458644 non-null  float64\n",
      " 6   pickup_latitude     1458644 non-null  float64\n",
      " 7   dropoff_longitude   1458644 non-null  float64\n",
      " 8   dropoff_latitude    1458644 non-null  float64\n",
      " 9   store_and_fwd_flag  1458644 non-null  object \n",
      " 10  trip_duration       1458644 non-null  int64  \n",
      "dtypes: float64(4), int64(3), object(4)\n",
      "memory usage: 122.4+ MB\n"
     ]
    }
   ],
   "source": [
    "data.info()"
   ]
  },
  {
   "cell_type": "code",
   "execution_count": 87,
   "metadata": {},
   "outputs": [],
   "source": [
    "data_sample = data.sample(100000)"
   ]
  },
  {
   "cell_type": "code",
   "execution_count": 88,
   "metadata": {},
   "outputs": [
    {
     "data": {
      "text/html": [
       "<div>\n",
       "<style scoped>\n",
       "    .dataframe tbody tr th:only-of-type {\n",
       "        vertical-align: middle;\n",
       "    }\n",
       "\n",
       "    .dataframe tbody tr th {\n",
       "        vertical-align: top;\n",
       "    }\n",
       "\n",
       "    .dataframe thead th {\n",
       "        text-align: right;\n",
       "    }\n",
       "</style>\n",
       "<table border=\"1\" class=\"dataframe\">\n",
       "  <thead>\n",
       "    <tr style=\"text-align: right;\">\n",
       "      <th></th>\n",
       "      <th>id</th>\n",
       "      <th>vendor_id</th>\n",
       "      <th>pickup_datetime</th>\n",
       "      <th>dropoff_datetime</th>\n",
       "      <th>passenger_count</th>\n",
       "      <th>pickup_longitude</th>\n",
       "      <th>pickup_latitude</th>\n",
       "      <th>dropoff_longitude</th>\n",
       "      <th>dropoff_latitude</th>\n",
       "      <th>store_and_fwd_flag</th>\n",
       "      <th>trip_duration</th>\n",
       "    </tr>\n",
       "  </thead>\n",
       "  <tbody>\n",
       "    <tr>\n",
       "      <th>1457636</th>\n",
       "      <td>id0880738</td>\n",
       "      <td>2</td>\n",
       "      <td>2016-02-27 20:13:05</td>\n",
       "      <td>2016-02-27 20:24:37</td>\n",
       "      <td>1</td>\n",
       "      <td>-73.981728</td>\n",
       "      <td>40.749500</td>\n",
       "      <td>-73.945915</td>\n",
       "      <td>40.792061</td>\n",
       "      <td>N</td>\n",
       "      <td>692</td>\n",
       "    </tr>\n",
       "    <tr>\n",
       "      <th>615369</th>\n",
       "      <td>id2002545</td>\n",
       "      <td>2</td>\n",
       "      <td>2016-06-04 09:54:05</td>\n",
       "      <td>2016-06-04 10:10:35</td>\n",
       "      <td>1</td>\n",
       "      <td>-73.979088</td>\n",
       "      <td>40.771606</td>\n",
       "      <td>-73.946518</td>\n",
       "      <td>40.822655</td>\n",
       "      <td>N</td>\n",
       "      <td>990</td>\n",
       "    </tr>\n",
       "    <tr>\n",
       "      <th>491096</th>\n",
       "      <td>id0289724</td>\n",
       "      <td>2</td>\n",
       "      <td>2016-05-06 17:40:05</td>\n",
       "      <td>2016-05-06 17:50:52</td>\n",
       "      <td>1</td>\n",
       "      <td>-73.989700</td>\n",
       "      <td>40.738651</td>\n",
       "      <td>-73.997772</td>\n",
       "      <td>40.754051</td>\n",
       "      <td>N</td>\n",
       "      <td>647</td>\n",
       "    </tr>\n",
       "    <tr>\n",
       "      <th>82632</th>\n",
       "      <td>id3767649</td>\n",
       "      <td>2</td>\n",
       "      <td>2016-05-30 19:20:26</td>\n",
       "      <td>2016-05-30 19:25:04</td>\n",
       "      <td>1</td>\n",
       "      <td>-73.988441</td>\n",
       "      <td>40.723267</td>\n",
       "      <td>-73.995880</td>\n",
       "      <td>40.716717</td>\n",
       "      <td>N</td>\n",
       "      <td>278</td>\n",
       "    </tr>\n",
       "    <tr>\n",
       "      <th>71403</th>\n",
       "      <td>id2530846</td>\n",
       "      <td>2</td>\n",
       "      <td>2016-01-19 14:19:22</td>\n",
       "      <td>2016-01-19 14:34:03</td>\n",
       "      <td>2</td>\n",
       "      <td>-73.985733</td>\n",
       "      <td>40.752598</td>\n",
       "      <td>-73.969231</td>\n",
       "      <td>40.755997</td>\n",
       "      <td>N</td>\n",
       "      <td>881</td>\n",
       "    </tr>\n",
       "    <tr>\n",
       "      <th>402280</th>\n",
       "      <td>id1263703</td>\n",
       "      <td>1</td>\n",
       "      <td>2016-01-31 18:22:24</td>\n",
       "      <td>2016-01-31 18:39:21</td>\n",
       "      <td>1</td>\n",
       "      <td>-74.008926</td>\n",
       "      <td>40.718861</td>\n",
       "      <td>-73.989525</td>\n",
       "      <td>40.743935</td>\n",
       "      <td>N</td>\n",
       "      <td>1017</td>\n",
       "    </tr>\n",
       "    <tr>\n",
       "      <th>616615</th>\n",
       "      <td>id3982308</td>\n",
       "      <td>2</td>\n",
       "      <td>2016-06-06 08:56:17</td>\n",
       "      <td>2016-06-06 09:36:25</td>\n",
       "      <td>5</td>\n",
       "      <td>-73.985703</td>\n",
       "      <td>40.723190</td>\n",
       "      <td>-73.786301</td>\n",
       "      <td>40.644073</td>\n",
       "      <td>N</td>\n",
       "      <td>2408</td>\n",
       "    </tr>\n",
       "    <tr>\n",
       "      <th>1378999</th>\n",
       "      <td>id2963580</td>\n",
       "      <td>2</td>\n",
       "      <td>2016-04-15 07:04:30</td>\n",
       "      <td>2016-04-15 07:14:33</td>\n",
       "      <td>5</td>\n",
       "      <td>-73.947731</td>\n",
       "      <td>40.775143</td>\n",
       "      <td>-73.982697</td>\n",
       "      <td>40.774029</td>\n",
       "      <td>N</td>\n",
       "      <td>603</td>\n",
       "    </tr>\n",
       "    <tr>\n",
       "      <th>1387210</th>\n",
       "      <td>id3983086</td>\n",
       "      <td>1</td>\n",
       "      <td>2016-04-27 07:26:39</td>\n",
       "      <td>2016-04-27 07:35:10</td>\n",
       "      <td>1</td>\n",
       "      <td>-73.967743</td>\n",
       "      <td>40.787464</td>\n",
       "      <td>-73.975426</td>\n",
       "      <td>40.765305</td>\n",
       "      <td>N</td>\n",
       "      <td>511</td>\n",
       "    </tr>\n",
       "    <tr>\n",
       "      <th>1345286</th>\n",
       "      <td>id3453536</td>\n",
       "      <td>1</td>\n",
       "      <td>2016-03-10 15:26:36</td>\n",
       "      <td>2016-03-10 15:57:39</td>\n",
       "      <td>2</td>\n",
       "      <td>-73.873016</td>\n",
       "      <td>40.774124</td>\n",
       "      <td>-73.971054</td>\n",
       "      <td>40.761845</td>\n",
       "      <td>N</td>\n",
       "      <td>1863</td>\n",
       "    </tr>\n",
       "  </tbody>\n",
       "</table>\n",
       "</div>"
      ],
      "text/plain": [
       "                id  vendor_id      pickup_datetime     dropoff_datetime  \\\n",
       "1457636  id0880738          2  2016-02-27 20:13:05  2016-02-27 20:24:37   \n",
       "615369   id2002545          2  2016-06-04 09:54:05  2016-06-04 10:10:35   \n",
       "491096   id0289724          2  2016-05-06 17:40:05  2016-05-06 17:50:52   \n",
       "82632    id3767649          2  2016-05-30 19:20:26  2016-05-30 19:25:04   \n",
       "71403    id2530846          2  2016-01-19 14:19:22  2016-01-19 14:34:03   \n",
       "402280   id1263703          1  2016-01-31 18:22:24  2016-01-31 18:39:21   \n",
       "616615   id3982308          2  2016-06-06 08:56:17  2016-06-06 09:36:25   \n",
       "1378999  id2963580          2  2016-04-15 07:04:30  2016-04-15 07:14:33   \n",
       "1387210  id3983086          1  2016-04-27 07:26:39  2016-04-27 07:35:10   \n",
       "1345286  id3453536          1  2016-03-10 15:26:36  2016-03-10 15:57:39   \n",
       "\n",
       "         passenger_count  pickup_longitude  pickup_latitude  \\\n",
       "1457636                1        -73.981728        40.749500   \n",
       "615369                 1        -73.979088        40.771606   \n",
       "491096                 1        -73.989700        40.738651   \n",
       "82632                  1        -73.988441        40.723267   \n",
       "71403                  2        -73.985733        40.752598   \n",
       "402280                 1        -74.008926        40.718861   \n",
       "616615                 5        -73.985703        40.723190   \n",
       "1378999                5        -73.947731        40.775143   \n",
       "1387210                1        -73.967743        40.787464   \n",
       "1345286                2        -73.873016        40.774124   \n",
       "\n",
       "         dropoff_longitude  dropoff_latitude store_and_fwd_flag  trip_duration  \n",
       "1457636         -73.945915         40.792061                  N            692  \n",
       "615369          -73.946518         40.822655                  N            990  \n",
       "491096          -73.997772         40.754051                  N            647  \n",
       "82632           -73.995880         40.716717                  N            278  \n",
       "71403           -73.969231         40.755997                  N            881  \n",
       "402280          -73.989525         40.743935                  N           1017  \n",
       "616615          -73.786301         40.644073                  N           2408  \n",
       "1378999         -73.982697         40.774029                  N            603  \n",
       "1387210         -73.975426         40.765305                  N            511  \n",
       "1345286         -73.971054         40.761845                  N           1863  "
      ]
     },
     "execution_count": 88,
     "metadata": {},
     "output_type": "execute_result"
    }
   ],
   "source": [
    "data_sample.head(10)"
   ]
  },
  {
   "cell_type": "markdown",
   "metadata": {},
   "source": [
    "## Exploratory Data Analysis"
   ]
  },
  {
   "cell_type": "code",
   "execution_count": 89,
   "metadata": {},
   "outputs": [
    {
     "data": {
      "text/plain": [
       "count    1.000000e+05\n",
       "mean     9.714067e+02\n",
       "std      7.203508e+03\n",
       "min      1.000000e+00\n",
       "25%      3.960000e+02\n",
       "50%      6.610000e+02\n",
       "75%      1.072000e+03\n",
       "max      2.049578e+06\n",
       "Name: trip_duration, dtype: float64"
      ]
     },
     "execution_count": 89,
     "metadata": {},
     "output_type": "execute_result"
    }
   ],
   "source": [
    "data_sample['trip_duration'].describe()"
   ]
  },
  {
   "cell_type": "code",
   "execution_count": 90,
   "metadata": {},
   "outputs": [
    {
     "data": {
      "text/plain": [
       "<seaborn.axisgrid.FacetGrid at 0x7fd3d46ad9d0>"
      ]
     },
     "execution_count": 90,
     "metadata": {},
     "output_type": "execute_result"
    },
    {
     "data": {
      "image/png": "[encoded data removed]",
      "text/plain": [
       "<Figure size 360x360 with 1 Axes>"
      ]
     },
     "metadata": {
      "needs_background": "light"
     },
     "output_type": "display_data"
    }
   ],
   "source": [
    "sns.displot(data_sample[data_sample['trip_duration'] <= 3000]['trip_duration'])"
   ]
  },
  {
   "cell_type": "code",
   "execution_count": 91,
   "metadata": {},
   "outputs": [
    {
     "data": {
      "text/plain": [
       "<AxesSubplot:xlabel='passenger_count', ylabel='count'>"
      ]
     },
     "execution_count": 91,
     "metadata": {},
     "output_type": "execute_result"
    },
    {
     "data": {
      "image/png": "[encoded data removed]",
      "text/plain": [
       "<Figure size 432x288 with 1 Axes>"
      ]
     },
     "metadata": {
      "needs_background": "light"
     },
     "output_type": "display_data"
    }
   ],
   "source": [
    "sns.countplot(data=data_sample, x='passenger_count')"
   ]
  },
  {
   "cell_type": "markdown",
   "metadata": {},
   "source": [
    "## Feature Engineering"
   ]
  },
  {
   "cell_type": "markdown",
   "metadata": {},
   "source": [
    "### Converting Pickup to Datetime"
   ]
  },
  {
   "cell_type": "code",
   "execution_count": 92,
   "metadata": {},
   "outputs": [],
   "source": [
    "data_sample['pickup_datetime'] = pd.to_datetime(data_sample['pickup_datetime'])"
   ]
  },
  {
   "cell_type": "code",
   "execution_count": 93,
   "metadata": {},
   "outputs": [
    {
     "data": {
      "text/plain": [
       "1457636   2016-02-27 20:13:05\n",
       "615369    2016-06-04 09:54:05\n",
       "491096    2016-05-06 17:40:05\n",
       "82632     2016-05-30 19:20:26\n",
       "71403     2016-01-19 14:19:22\n",
       "                  ...        \n",
       "47928     2016-01-18 17:38:39\n",
       "334602    2016-05-31 22:38:29\n",
       "1356608   2016-06-25 01:11:21\n",
       "605171    2016-04-08 00:11:25\n",
       "119527    2016-01-30 18:23:14\n",
       "Name: pickup_datetime, Length: 100000, dtype: datetime64[ns]"
      ]
     },
     "execution_count": 93,
     "metadata": {},
     "output_type": "execute_result"
    }
   ],
   "source": [
    "data_sample['pickup_datetime']"
   ]
  },
  {
   "cell_type": "code",
   "execution_count": 94,
   "metadata": {},
   "outputs": [],
   "source": [
    "data_sample['pickup_month'] = data_sample['pickup_datetime'].dt.month"
   ]
  },
  {
   "cell_type": "code",
   "execution_count": 95,
   "metadata": {},
   "outputs": [],
   "source": [
    "data_sample['pickup_day'] = data_sample['pickup_datetime'].dt.day"
   ]
  },
  {
   "cell_type": "code",
   "execution_count": 96,
   "metadata": {},
   "outputs": [],
   "source": [
    "data_sample['pickup_hour'] = data_sample['pickup_datetime'].dt.hour"
   ]
  },
  {
   "cell_type": "code",
   "execution_count": 97,
   "metadata": {},
   "outputs": [],
   "source": [
    "data_sample['pickup_minute'] = data_sample['pickup_datetime'].dt.minute"
   ]
  },
  {
   "cell_type": "code",
   "execution_count": 156,
   "metadata": {},
   "outputs": [
    {
     "data": {
      "text/html": [
       "<div>\n",
       "<style scoped>\n",
       "    .dataframe tbody tr th:only-of-type {\n",
       "        vertical-align: middle;\n",
       "    }\n",
       "\n",
       "    .dataframe tbody tr th {\n",
       "        vertical-align: top;\n",
       "    }\n",
       "\n",
       "    .dataframe thead th {\n",
       "        text-align: right;\n",
       "    }\n",
       "</style>\n",
       "<table border=\"1\" class=\"dataframe\">\n",
       "  <thead>\n",
       "    <tr style=\"text-align: right;\">\n",
       "      <th></th>\n",
       "      <th>pickup_datetime</th>\n",
       "      <th>pickup_month</th>\n",
       "      <th>pickup_day</th>\n",
       "      <th>pickup_hour</th>\n",
       "      <th>pickup_minute</th>\n",
       "    </tr>\n",
       "  </thead>\n",
       "  <tbody>\n",
       "    <tr>\n",
       "      <th>1457636</th>\n",
       "      <td>2016-02-27 20:13:05</td>\n",
       "      <td>2</td>\n",
       "      <td>27</td>\n",
       "      <td>20</td>\n",
       "      <td>13</td>\n",
       "    </tr>\n",
       "    <tr>\n",
       "      <th>615369</th>\n",
       "      <td>2016-06-04 09:54:05</td>\n",
       "      <td>6</td>\n",
       "      <td>4</td>\n",
       "      <td>9</td>\n",
       "      <td>54</td>\n",
       "    </tr>\n",
       "    <tr>\n",
       "      <th>491096</th>\n",
       "      <td>2016-05-06 17:40:05</td>\n",
       "      <td>5</td>\n",
       "      <td>6</td>\n",
       "      <td>17</td>\n",
       "      <td>40</td>\n",
       "    </tr>\n",
       "    <tr>\n",
       "      <th>82632</th>\n",
       "      <td>2016-05-30 19:20:26</td>\n",
       "      <td>5</td>\n",
       "      <td>30</td>\n",
       "      <td>19</td>\n",
       "      <td>20</td>\n",
       "    </tr>\n",
       "    <tr>\n",
       "      <th>71403</th>\n",
       "      <td>2016-01-19 14:19:22</td>\n",
       "      <td>1</td>\n",
       "      <td>19</td>\n",
       "      <td>14</td>\n",
       "      <td>19</td>\n",
       "    </tr>\n",
       "    <tr>\n",
       "      <th>...</th>\n",
       "      <td>...</td>\n",
       "      <td>...</td>\n",
       "      <td>...</td>\n",
       "      <td>...</td>\n",
       "      <td>...</td>\n",
       "    </tr>\n",
       "    <tr>\n",
       "      <th>47928</th>\n",
       "      <td>2016-01-18 17:38:39</td>\n",
       "      <td>1</td>\n",
       "      <td>18</td>\n",
       "      <td>17</td>\n",
       "      <td>38</td>\n",
       "    </tr>\n",
       "    <tr>\n",
       "      <th>334602</th>\n",
       "      <td>2016-05-31 22:38:29</td>\n",
       "      <td>5</td>\n",
       "      <td>31</td>\n",
       "      <td>22</td>\n",
       "      <td>38</td>\n",
       "    </tr>\n",
       "    <tr>\n",
       "      <th>1356608</th>\n",
       "      <td>2016-06-25 01:11:21</td>\n",
       "      <td>6</td>\n",
       "      <td>25</td>\n",
       "      <td>1</td>\n",
       "      <td>11</td>\n",
       "    </tr>\n",
       "    <tr>\n",
       "      <th>605171</th>\n",
       "      <td>2016-04-08 00:11:25</td>\n",
       "      <td>4</td>\n",
       "      <td>8</td>\n",
       "      <td>0</td>\n",
       "      <td>11</td>\n",
       "    </tr>\n",
       "    <tr>\n",
       "      <th>119527</th>\n",
       "      <td>2016-01-30 18:23:14</td>\n",
       "      <td>1</td>\n",
       "      <td>30</td>\n",
       "      <td>18</td>\n",
       "      <td>23</td>\n",
       "    </tr>\n",
       "  </tbody>\n",
       "</table>\n",
       "<p>100000 rows × 5 columns</p>\n",
       "</div>"
      ],
      "text/plain": [
       "            pickup_datetime  pickup_month  pickup_day  pickup_hour  \\\n",
       "1457636 2016-02-27 20:13:05             2          27           20   \n",
       "615369  2016-06-04 09:54:05             6           4            9   \n",
       "491096  2016-05-06 17:40:05             5           6           17   \n",
       "82632   2016-05-30 19:20:26             5          30           19   \n",
       "71403   2016-01-19 14:19:22             1          19           14   \n",
       "...                     ...           ...         ...          ...   \n",
       "47928   2016-01-18 17:38:39             1          18           17   \n",
       "334602  2016-05-31 22:38:29             5          31           22   \n",
       "1356608 2016-06-25 01:11:21             6          25            1   \n",
       "605171  2016-04-08 00:11:25             4           8            0   \n",
       "119527  2016-01-30 18:23:14             1          30           18   \n",
       "\n",
       "         pickup_minute  \n",
       "1457636             13  \n",
       "615369              54  \n",
       "491096              40  \n",
       "82632               20  \n",
       "71403               19  \n",
       "...                ...  \n",
       "47928               38  \n",
       "334602              38  \n",
       "1356608             11  \n",
       "605171              11  \n",
       "119527              23  \n",
       "\n",
       "[100000 rows x 5 columns]"
      ]
     },
     "execution_count": 156,
     "metadata": {},
     "output_type": "execute_result"
    }
   ],
   "source": [
    "data_sample[['pickup_datetime', 'pickup_month', 'pickup_day', 'pickup_hour', 'pickup_minute']]"
   ]
  },
  {
   "cell_type": "markdown",
   "metadata": {},
   "source": [
    "### Seasons"
   ]
  },
  {
   "cell_type": "code",
   "execution_count": 98,
   "metadata": {},
   "outputs": [],
   "source": [
    "import datetime\n",
    "\n",
    "def get_season(date: datetime.datetime, north_hemisphere = True):\n",
    "    \n",
    "    now = (date.month, date.day)\n",
    "    if (3, 21) <= now < (6, 21):\n",
    "        season = 'spring' if north_hemisphere else 'fall'\n",
    "    elif (6, 21) <= now < (9, 21):\n",
    "        season = 'summer' if north_hemisphere else 'winter'\n",
    "    elif (9, 21) <= now < (12, 21):\n",
    "        season = 'fall' if north_hemisphere else 'spring'\n",
    "    else:\n",
    "        season = 'winter' if north_hemisphere else 'summer'\n",
    "\n",
    "    return season"
   ]
  },
  {
   "cell_type": "code",
   "execution_count": 99,
   "metadata": {},
   "outputs": [],
   "source": [
    "data_sample['pickup_season'] = data_sample['pickup_datetime'].apply(lambda x: get_season(x))"
   ]
  },
  {
   "cell_type": "code",
   "execution_count": 100,
   "metadata": {},
   "outputs": [
    {
     "data": {
      "text/plain": [
       "1457636    winter\n",
       "615369     spring\n",
       "491096     spring\n",
       "82632      spring\n",
       "71403      winter\n",
       "            ...  \n",
       "47928      winter\n",
       "334602     spring\n",
       "1356608    summer\n",
       "605171     spring\n",
       "119527     winter\n",
       "Name: pickup_season, Length: 100000, dtype: object"
      ]
     },
     "execution_count": 100,
     "metadata": {},
     "output_type": "execute_result"
    }
   ],
   "source": [
    "data_sample['pickup_season']"
   ]
  },
  {
   "cell_type": "markdown",
   "metadata": {},
   "source": [
    "### Holidays"
   ]
  },
  {
   "cell_type": "code",
   "execution_count": 101,
   "metadata": {},
   "outputs": [
    {
     "data": {
      "text/plain": [
       "count    100000.0\n",
       "mean       2016.0\n",
       "std           0.0\n",
       "min        2016.0\n",
       "25%        2016.0\n",
       "50%        2016.0\n",
       "75%        2016.0\n",
       "max        2016.0\n",
       "Name: pickup_datetime, dtype: float64"
      ]
     },
     "execution_count": 101,
     "metadata": {},
     "output_type": "execute_result"
    }
   ],
   "source": [
    "data_sample['pickup_datetime'].dt.year.describe()"
   ]
  },
  {
   "cell_type": "code",
   "execution_count": 102,
   "metadata": {},
   "outputs": [],
   "source": [
    "from pandas.tseries.holiday import USFederalHolidayCalendar\n",
    "\n",
    "cal = USFederalHolidayCalendar()\n",
    "holidays = cal.holidays(start='2016-01-01', end='2016-12-31').to_pydatetime()\n",
    "\n",
    "def is_holiday(date: datetime.datetime):\n",
    "    \n",
    "    if date in holidays:\n",
    "        return True\n",
    "    else:\n",
    "        return False"
   ]
  },
  {
   "cell_type": "code",
   "execution_count": 103,
   "metadata": {},
   "outputs": [],
   "source": [
    "data_sample['is_holiday'] = data_sample['pickup_datetime'].apply(is_holiday)"
   ]
  },
  {
   "cell_type": "markdown",
   "metadata": {},
   "source": [
    "### Weekends"
   ]
  },
  {
   "cell_type": "code",
   "execution_count": 104,
   "metadata": {},
   "outputs": [],
   "source": [
    "def is_weekend(date: datetime.datetime):\n",
    "    \n",
    "    weekday_number = date.weekday()\n",
    "    \n",
    "    if weekday_number >= 6:\n",
    "        return True\n",
    "    else:\n",
    "        return False\n",
    "    \n"
   ]
  },
  {
   "cell_type": "code",
   "execution_count": 105,
   "metadata": {},
   "outputs": [],
   "source": [
    "data_sample['weekday_number'] = data_sample['pickup_datetime'].apply(lambda x: x.weekday())\n",
    "data_sample['is_weekend'] = data_sample['pickup_datetime'].apply(is_weekend)"
   ]
  },
  {
   "cell_type": "code",
   "execution_count": 157,
   "metadata": {},
   "outputs": [
    {
     "data": {
      "text/html": [
       "<div>\n",
       "<style scoped>\n",
       "    .dataframe tbody tr th:only-of-type {\n",
       "        vertical-align: middle;\n",
       "    }\n",
       "\n",
       "    .dataframe tbody tr th {\n",
       "        vertical-align: top;\n",
       "    }\n",
       "\n",
       "    .dataframe thead th {\n",
       "        text-align: right;\n",
       "    }\n",
       "</style>\n",
       "<table border=\"1\" class=\"dataframe\">\n",
       "  <thead>\n",
       "    <tr style=\"text-align: right;\">\n",
       "      <th></th>\n",
       "      <th>weekday_number</th>\n",
       "      <th>is_weekend</th>\n",
       "    </tr>\n",
       "  </thead>\n",
       "  <tbody>\n",
       "    <tr>\n",
       "      <th>1457636</th>\n",
       "      <td>5</td>\n",
       "      <td>False</td>\n",
       "    </tr>\n",
       "    <tr>\n",
       "      <th>615369</th>\n",
       "      <td>5</td>\n",
       "      <td>False</td>\n",
       "    </tr>\n",
       "    <tr>\n",
       "      <th>491096</th>\n",
       "      <td>4</td>\n",
       "      <td>False</td>\n",
       "    </tr>\n",
       "    <tr>\n",
       "      <th>82632</th>\n",
       "      <td>0</td>\n",
       "      <td>False</td>\n",
       "    </tr>\n",
       "    <tr>\n",
       "      <th>71403</th>\n",
       "      <td>1</td>\n",
       "      <td>False</td>\n",
       "    </tr>\n",
       "    <tr>\n",
       "      <th>...</th>\n",
       "      <td>...</td>\n",
       "      <td>...</td>\n",
       "    </tr>\n",
       "    <tr>\n",
       "      <th>47928</th>\n",
       "      <td>0</td>\n",
       "      <td>False</td>\n",
       "    </tr>\n",
       "    <tr>\n",
       "      <th>334602</th>\n",
       "      <td>1</td>\n",
       "      <td>False</td>\n",
       "    </tr>\n",
       "    <tr>\n",
       "      <th>1356608</th>\n",
       "      <td>5</td>\n",
       "      <td>False</td>\n",
       "    </tr>\n",
       "    <tr>\n",
       "      <th>605171</th>\n",
       "      <td>4</td>\n",
       "      <td>False</td>\n",
       "    </tr>\n",
       "    <tr>\n",
       "      <th>119527</th>\n",
       "      <td>5</td>\n",
       "      <td>False</td>\n",
       "    </tr>\n",
       "  </tbody>\n",
       "</table>\n",
       "<p>100000 rows × 2 columns</p>\n",
       "</div>"
      ],
      "text/plain": [
       "         weekday_number  is_weekend\n",
       "1457636               5       False\n",
       "615369                5       False\n",
       "491096                4       False\n",
       "82632                 0       False\n",
       "71403                 1       False\n",
       "...                 ...         ...\n",
       "47928                 0       False\n",
       "334602                1       False\n",
       "1356608               5       False\n",
       "605171                4       False\n",
       "119527                5       False\n",
       "\n",
       "[100000 rows x 2 columns]"
      ]
     },
     "execution_count": 157,
     "metadata": {},
     "output_type": "execute_result"
    }
   ],
   "source": [
    "data_sample[['weekday_number', 'is_weekend']]"
   ]
  },
  {
   "cell_type": "markdown",
   "metadata": {},
   "source": [
    "### Counties in New York"
   ]
  },
  {
   "cell_type": "code",
   "execution_count": 106,
   "metadata": {},
   "outputs": [],
   "source": [
    "import reverse_geocoder as rg"
   ]
  },
  {
   "cell_type": "code",
   "execution_count": 107,
   "metadata": {},
   "outputs": [],
   "source": [
    "def get_county(coordinates):\n",
    "    \n",
    "    results = rg.search(coordinates)\n",
    "    return results[0]['admin2']"
   ]
  },
  {
   "cell_type": "code",
   "execution_count": 108,
   "metadata": {},
   "outputs": [],
   "source": [
    "data_sample['pickup_lat_lon'] = data_sample.apply(lambda x: (x.pickup_latitude, x.pickup_longitude), \n",
    "                                                  axis=1)\n",
    "data_sample['dropoff_lat_lon'] = data_sample.apply(lambda x: (x.dropoff_latitude, x.dropoff_longitude), \n",
    "                                                  axis=1)"
   ]
  },
  {
   "cell_type": "code",
   "execution_count": 24,
   "metadata": {},
   "outputs": [
    {
     "name": "stderr",
     "output_type": "stream",
     "text": [
      "\r",
      "  0%|          | 0/10000 [00:00<?, ?it/s]"
     ]
    },
    {
     "name": "stdout",
     "output_type": "stream",
     "text": [
      "Loading formatted geocoded file...\n"
     ]
    },
    {
     "name": "stderr",
     "output_type": "stream",
     "text": [
      "100%|██████████| 10000/10000 [20:51<00:00,  7.99it/s]\n"
     ]
    }
   ],
   "source": [
    "#data_sample['pickup_county'] = data_sample['pickup_lat_lon'].progress_apply(get_borough)"
   ]
  },
  {
   "cell_type": "code",
   "execution_count": 25,
   "metadata": {},
   "outputs": [],
   "source": [
    "#data_sample.to_csv('./data/data_sample.csv', index=False)"
   ]
  },
  {
   "cell_type": "code",
   "execution_count": 39,
   "metadata": {},
   "outputs": [
    {
     "data": {
      "text/plain": [
       "New York County       3823\n",
       "                      2891\n",
       "Queens County         1539\n",
       "Hudson County         1214\n",
       "Bronx                  239\n",
       "Nassau County          163\n",
       "Bergen County           74\n",
       "Kings County            51\n",
       "Westchester County       3\n",
       "Union County             2\n",
       "Hamilton County          1\n",
       "Name: pickup_borough, dtype: int64"
      ]
     },
     "execution_count": 39,
     "metadata": {},
     "output_type": "execute_result"
    }
   ],
   "source": [
    "#data_sample['pickup_county'].value_counts()"
   ]
  },
  {
   "cell_type": "markdown",
   "metadata": {},
   "source": [
    "### Haversine Distance"
   ]
  },
  {
   "cell_type": "code",
   "execution_count": 109,
   "metadata": {},
   "outputs": [],
   "source": [
    "from haversine import haversine, Unit\n",
    "data_sample['haversine_distance'] = data_sample.apply(lambda x: haversine(x.pickup_lat_lon, x.dropoff_lat_lon), \n",
    "                                                  axis=1)"
   ]
  },
  {
   "cell_type": "code",
   "execution_count": 110,
   "metadata": {},
   "outputs": [
    {
     "data": {
      "text/plain": [
       "1457636    5.611762\n",
       "615369     6.303751\n",
       "491096     1.842470\n",
       "82632      0.960955\n",
       "71403      1.440493\n",
       "             ...   \n",
       "47928      1.400261\n",
       "334602     4.376362\n",
       "1356608    1.370099\n",
       "605171     4.525517\n",
       "119527     3.719581\n",
       "Name: haversine_distance, Length: 100000, dtype: float64"
      ]
     },
     "execution_count": 110,
     "metadata": {},
     "output_type": "execute_result"
    }
   ],
   "source": [
    "data_sample['haversine_distance']"
   ]
  },
  {
   "cell_type": "code",
   "execution_count": 111,
   "metadata": {},
   "outputs": [
    {
     "data": {
      "text/html": [
       "<div>\n",
       "<style scoped>\n",
       "    .dataframe tbody tr th:only-of-type {\n",
       "        vertical-align: middle;\n",
       "    }\n",
       "\n",
       "    .dataframe tbody tr th {\n",
       "        vertical-align: top;\n",
       "    }\n",
       "\n",
       "    .dataframe thead th {\n",
       "        text-align: right;\n",
       "    }\n",
       "</style>\n",
       "<table border=\"1\" class=\"dataframe\">\n",
       "  <thead>\n",
       "    <tr style=\"text-align: right;\">\n",
       "      <th></th>\n",
       "      <th>trip_duration</th>\n",
       "      <th>haversine_distance</th>\n",
       "    </tr>\n",
       "  </thead>\n",
       "  <tbody>\n",
       "    <tr>\n",
       "      <th>trip_duration</th>\n",
       "      <td>1.000000</td>\n",
       "      <td>0.073016</td>\n",
       "    </tr>\n",
       "    <tr>\n",
       "      <th>haversine_distance</th>\n",
       "      <td>0.073016</td>\n",
       "      <td>1.000000</td>\n",
       "    </tr>\n",
       "  </tbody>\n",
       "</table>\n",
       "</div>"
      ],
      "text/plain": [
       "                    trip_duration  haversine_distance\n",
       "trip_duration            1.000000            0.073016\n",
       "haversine_distance       0.073016            1.000000"
      ]
     },
     "execution_count": 111,
     "metadata": {},
     "output_type": "execute_result"
    }
   ],
   "source": [
    "data_sample[['trip_duration', 'haversine_distance']].corr()"
   ]
  },
  {
   "cell_type": "markdown",
   "metadata": {},
   "source": [
    "## Removing Outliers"
   ]
  },
  {
   "cell_type": "code",
   "execution_count": null,
   "metadata": {},
   "outputs": [],
   "source": []
  },
  {
   "cell_type": "markdown",
   "metadata": {},
   "source": [
    "## Encoding Categorical Variables"
   ]
  },
  {
   "cell_type": "code",
   "execution_count": 124,
   "metadata": {},
   "outputs": [],
   "source": [
    "X = data_sample.drop(['id', 'dropoff_datetime', 'pickup_datetime', \n",
    "                      'pickup_lat_lon', 'dropoff_lat_lon', 'trip_duration'], axis=1)\n",
    "y = data_sample['trip_duration']"
   ]
  },
  {
   "cell_type": "code",
   "execution_count": 125,
   "metadata": {},
   "outputs": [
    {
     "data": {
      "text/plain": [
       "Index(['store_and_fwd_flag', 'pickup_season'], dtype='object')"
      ]
     },
     "execution_count": 125,
     "metadata": {},
     "output_type": "execute_result"
    }
   ],
   "source": [
    "object_cols = X.select_dtypes('object').columns\n",
    "object_cols"
   ]
  },
  {
   "cell_type": "code",
   "execution_count": 126,
   "metadata": {},
   "outputs": [],
   "source": [
    "X = pd.get_dummies(X, columns=object_cols)"
   ]
  },
  {
   "cell_type": "code",
   "execution_count": 127,
   "metadata": {},
   "outputs": [
    {
     "data": {
      "text/plain": [
       "Index(['vendor_id', 'passenger_count', 'pickup_longitude', 'pickup_latitude',\n",
       "       'dropoff_longitude', 'dropoff_latitude', 'pickup_month', 'pickup_day',\n",
       "       'pickup_hour', 'pickup_minute', 'is_holiday', 'weekday_number',\n",
       "       'is_weekend', 'haversine_distance', 'store_and_fwd_flag_N',\n",
       "       'store_and_fwd_flag_Y', 'pickup_season_spring', 'pickup_season_summer',\n",
       "       'pickup_season_winter'],\n",
       "      dtype='object')"
      ]
     },
     "execution_count": 127,
     "metadata": {},
     "output_type": "execute_result"
    }
   ],
   "source": [
    "X.columns"
   ]
  },
  {
   "cell_type": "code",
   "execution_count": 134,
   "metadata": {},
   "outputs": [
    {
     "data": {
      "text/plain": [
       "count    1.000000e+05\n",
       "mean     9.714067e+02\n",
       "std      7.203508e+03\n",
       "min      1.000000e+00\n",
       "25%      3.960000e+02\n",
       "50%      6.610000e+02\n",
       "75%      1.072000e+03\n",
       "max      2.049578e+06\n",
       "Name: trip_duration, dtype: float64"
      ]
     },
     "execution_count": 134,
     "metadata": {},
     "output_type": "execute_result"
    }
   ],
   "source": [
    "y.describe()"
   ]
  },
  {
   "cell_type": "markdown",
   "metadata": {},
   "source": [
    "## Model Training"
   ]
  },
  {
   "cell_type": "code",
   "execution_count": 128,
   "metadata": {},
   "outputs": [],
   "source": [
    "from sklearn.model_selection import train_test_split\n",
    "X_train, X_val, y_train, y_val = train_test_split(X, y, test_size=0.3, random_state=42)"
   ]
  },
  {
   "cell_type": "code",
   "execution_count": 149,
   "metadata": {},
   "outputs": [
    {
     "data": {
      "text/plain": [
       "DecisionTreeRegressor()"
      ]
     },
     "execution_count": 149,
     "metadata": {},
     "output_type": "execute_result"
    }
   ],
   "source": [
    "from sklearn.tree import DecisionTreeRegressor\n",
    "from sklearn.pipeline import Pipeline\n",
    "\n",
    "dtree = DecisionTreeRegressor()\n",
    "\n",
    "dtree.fit(X_train, y_train)"
   ]
  },
  {
   "cell_type": "code",
   "execution_count": 150,
   "metadata": {},
   "outputs": [
    {
     "data": {
      "text/html": [
       "<div>\n",
       "<style scoped>\n",
       "    .dataframe tbody tr th:only-of-type {\n",
       "        vertical-align: middle;\n",
       "    }\n",
       "\n",
       "    .dataframe tbody tr th {\n",
       "        vertical-align: top;\n",
       "    }\n",
       "\n",
       "    .dataframe thead th {\n",
       "        text-align: right;\n",
       "    }\n",
       "</style>\n",
       "<table border=\"1\" class=\"dataframe\">\n",
       "  <thead>\n",
       "    <tr style=\"text-align: right;\">\n",
       "      <th></th>\n",
       "      <th>pred</th>\n",
       "    </tr>\n",
       "  </thead>\n",
       "  <tbody>\n",
       "    <tr>\n",
       "      <th>count</th>\n",
       "      <td>3.000000e+04</td>\n",
       "    </tr>\n",
       "    <tr>\n",
       "      <th>mean</th>\n",
       "      <td>1.087968e+03</td>\n",
       "    </tr>\n",
       "    <tr>\n",
       "      <th>std</th>\n",
       "      <td>1.240670e+04</td>\n",
       "    </tr>\n",
       "    <tr>\n",
       "      <th>min</th>\n",
       "      <td>2.000000e+00</td>\n",
       "    </tr>\n",
       "    <tr>\n",
       "      <th>25%</th>\n",
       "      <td>4.010000e+02</td>\n",
       "    </tr>\n",
       "    <tr>\n",
       "      <th>50%</th>\n",
       "      <td>6.720000e+02</td>\n",
       "    </tr>\n",
       "    <tr>\n",
       "      <th>75%</th>\n",
       "      <td>1.092000e+03</td>\n",
       "    </tr>\n",
       "    <tr>\n",
       "      <th>max</th>\n",
       "      <td>2.049578e+06</td>\n",
       "    </tr>\n",
       "  </tbody>\n",
       "</table>\n",
       "</div>"
      ],
      "text/plain": [
       "               pred\n",
       "count  3.000000e+04\n",
       "mean   1.087968e+03\n",
       "std    1.240670e+04\n",
       "min    2.000000e+00\n",
       "25%    4.010000e+02\n",
       "50%    6.720000e+02\n",
       "75%    1.092000e+03\n",
       "max    2.049578e+06"
      ]
     },
     "execution_count": 150,
     "metadata": {},
     "output_type": "execute_result"
    }
   ],
   "source": [
    "pd.DataFrame({'pred': pred}).describe()"
   ]
  },
  {
   "cell_type": "code",
   "execution_count": 151,
   "metadata": {},
   "outputs": [
    {
     "name": "stdout",
     "output_type": "stream",
     "text": [
      "RMSLE: 0.6358378822365307\n"
     ]
    }
   ],
   "source": [
    "from sklearn.metrics import mean_squared_log_error\n",
    "\n",
    "pred = dtree.predict(X_val)\n",
    "print('RMSLE: {}'.format(mean_squared_log_error(y_val, pred, squared=False)))"
   ]
  },
  {
   "cell_type": "markdown",
   "metadata": {},
   "source": [
    "## Adding Polynomial Featues"
   ]
  },
  {
   "cell_type": "code",
   "execution_count": 152,
   "metadata": {},
   "outputs": [
    {
     "data": {
      "text/plain": [
       "Pipeline(steps=[('poly', PolynomialFeatures()),\n",
       "                ('dtree', DecisionTreeRegressor())])"
      ]
     },
     "execution_count": 152,
     "metadata": {},
     "output_type": "execute_result"
    }
   ],
   "source": [
    "from sklearn.preprocessing import PolynomialFeatures\n",
    "\n",
    "model_pipeline = Pipeline([('poly', PolynomialFeatures(degree=2)), ('dtree', dtree)])\n",
    "\n",
    "model_pipeline.fit(X_train, y_train)"
   ]
  },
  {
   "cell_type": "code",
   "execution_count": 153,
   "metadata": {},
   "outputs": [
    {
     "name": "stdout",
     "output_type": "stream",
     "text": [
      "RMSLE: 0.6419347840182402\n"
     ]
    }
   ],
   "source": [
    "from sklearn.metrics import mean_squared_log_error\n",
    "\n",
    "pred = model_pipeline.predict(X_val)\n",
    "print('RMSLE: {}'.format(mean_squared_log_error(y_val, pred, squared=False)))"
   ]
  }
 ],
 "metadata": {
  "kernelspec": {
   "display_name": "Python 3",
   "language": "python",
   "name": "python3"
  },
  "language_info": {
   "codemirror_mode": {
    "name": "ipython",
    "version": 3
   },
   "file_extension": ".py",
   "mimetype": "text/x-python",
   "name": "python",
   "nbconvert_exporter": "python",
   "pygments_lexer": "ipython3",
   "version": "3.7.6"
  }
 },
 "nbformat": 4,
 "nbformat_minor": 4
}
